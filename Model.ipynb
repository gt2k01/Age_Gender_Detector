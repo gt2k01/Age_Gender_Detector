{
 "cells": [
  {
   "cell_type": "markdown",
   "metadata": {},
   "source": [
    "# Model Notebook"
   ]
  },
  {
   "cell_type": "markdown",
   "metadata": {},
   "source": [
    "This notebook will contain our model. Here we wiil extract data, train it and fit into our model, evaluate its output and try to optimize it."
   ]
  },
  {
   "cell_type": "markdown",
   "metadata": {},
   "source": [
    "## Importing the necessary libraries"
   ]
  },
  {
   "cell_type": "markdown",
   "metadata": {},
   "source": [
    "## Extracting data from dataset"
   ]
  },
  {
   "cell_type": "markdown",
   "metadata": {},
   "source": [
    "Download dataset from [Here](https://www.kaggle.com/datasets/jangedoo/utkface-new)"
   ]
  },
  {
   "cell_type": "code",
   "execution_count": null,
   "metadata": {},
   "outputs": [],
   "source": [
    "import tensorflow as tf\r\n",
    "from cv2 import cv2 as cv\r\n",
    "import numpy as np\r\n",
    "from matplotlib import pyplot as plt\r\n",
    "from tensorflow.keras.layers import Dropout\r\n",
    "from tensorflow.keras.layers import Flatten\r\n",
    "from tensorflow.keras.layers import BatchNormalization\r\n",
    "from tensorflow.keras.layers import Dense, MaxPool2D,Conv2D, MaxPooling2D\r\n",
    "from tensorflow.keras.models import Model\r\n",
    "from tensorflow.keras.layers import Input, Activation, Add\r\n",
    "from tensorflow.keras.regularizers import l2\r\n",
    "from tensorflow.keras.optimizers import Adam,Adagrad,Adadelta,Adamax,RMSprop\r\n",
    "import pandas as pd"
   ]
  },
  {
   "cell_type": "code",
   "execution_count": null,
   "metadata": {},
   "outputs": [],
   "source": [
    "fldr = \"./UTKFace\""
   ]
  },
  {
   "cell_type": "code",
   "execution_count": null,
   "metadata": {},
   "outputs": [],
   "source": [
    "import os\r\n",
    "files = os.listdir(fldr)"
   ]
  },
  {
   "cell_type": "markdown",
   "metadata": {},
   "source": [
    "## Creating list of images"
   ]
  },
  {
   "cell_type": "code",
   "execution_count": null,
   "metadata": {},
   "outputs": [],
   "source": [
    "ages = []\r\n",
    "genders = []\r\n",
    "images = []\r\n",
    "\r\n",
    "for fle in files:\r\n",
    "    age = int( fle.split('_')[0] )\r\n",
    "    gender = int( fle.split('_')[1] )\r\n",
    "    total = fldr + '/' + fle\r\n",
    "    print( total )\r\n",
    "    image = cv.imread( total )\r\n",
    "    image = cv.cvtColor( image, cv.COLOR_BGR2RGB )\r\n",
    "    image = cv.resize( image, ( 48, 48 ) )\r\n",
    "    images.append( image )\r\n"
   ]
  },
  {
   "cell_type": "markdown",
   "metadata": {},
   "source": [
    "## Creating list of age and gender"
   ]
  },
  {
   "cell_type": "code",
   "execution_count": null,
   "metadata": {},
   "outputs": [],
   "source": [
    "for fle in files:\r\n",
    "    age = int( fle.split('_')[0] )\r\n",
    "    gender = int( fle.split('_')[1] )\r\n",
    "    ages.append( age )\r\n",
    "    genders.append( gender )"
   ]
  },
  {
   "cell_type": "markdown",
   "metadata": {},
   "source": [
    "## Viewing a sample"
   ]
  },
  {
   "cell_type": "code",
   "execution_count": null,
   "metadata": {},
   "outputs": [],
   "source": [
    "plt.imshow(images[100])\r\n",
    "print(ages[100])\r\n",
    "print(genders[100])"
   ]
  },
  {
   "cell_type": "markdown",
   "metadata": {},
   "source": [
    "## Saving the images, ages, gender array in our system"
   ]
  },
  {
   "cell_type": "code",
   "execution_count": null,
   "metadata": {},
   "outputs": [],
   "source": [
    "images_f = np.array( images )\r\n",
    "ages_f = np.array( ages )\r\n",
    "genders_f = np.array( genders )\r\n"
   ]
  },
  {
   "cell_type": "code",
   "execution_count": null,
   "metadata": {},
   "outputs": [],
   "source": [
    "np.save( fldr + 'image.npy', images_f)\r\n",
    "np.save( fldr + 'ages.npy', ages_f)\r\n",
    "np.save( fldr + 'genders.npy', genders_f)"
   ]
  },
  {
   "cell_type": "markdown",
   "metadata": {},
   "source": [
    "## Counting number of Male and Female respectively"
   ]
  },
  {
   "cell_type": "code",
   "execution_count": null,
   "metadata": {},
   "outputs": [],
   "source": [
    "values, counts = np.unique(genders_f, return_counts = True )\r\n",
    "print( counts )"
   ]
  },
  {
   "cell_type": "markdown",
   "metadata": {},
   "source": [
    "## Plotting the number of Male and Female samples"
   ]
  },
  {
   "cell_type": "code",
   "execution_count": null,
   "metadata": {},
   "outputs": [],
   "source": [
    "fig = plt.figure()\r\n",
    "ax = fig.add_axes([0,0,1,1])\r\n",
    "gender = ['Male', 'Female']\r\n",
    "values = [12391, 11317]\r\n",
    "ax.bar(gender, values)\r\n",
    "plt.show()\r\n"
   ]
  },
  {
   "cell_type": "markdown",
   "metadata": {},
   "source": [
    "## Counting the number of samples in each age "
   ]
  },
  {
   "cell_type": "code",
   "execution_count": null,
   "metadata": {},
   "outputs": [],
   "source": [
    "values, counts = np.unique(ages_f, return_counts= True)\r\n",
    "print(counts)"
   ]
  },
  {
   "cell_type": "markdown",
   "metadata": {},
   "source": [
    "## Converting age counts to lists"
   ]
  },
  {
   "cell_type": "code",
   "execution_count": null,
   "metadata": {},
   "outputs": [],
   "source": [
    "val = values.tolist()\r\n",
    "cnt = counts.tolist()\r\n"
   ]
  },
  {
   "cell_type": "markdown",
   "metadata": {},
   "source": [
    "## Plotting the samples agewise"
   ]
  },
  {
   "cell_type": "code",
   "execution_count": null,
   "metadata": {},
   "outputs": [],
   "source": [
    "plt.plot(counts)\r\n",
    "plt.xlabel( 'Ages' )\r\n",
    "plt.ylabel( 'Distribution' )\r\n",
    "plt.show()"
   ]
  },
  {
   "cell_type": "markdown",
   "metadata": {},
   "source": [
    "## Defining Labels for Output"
   ]
  },
  {
   "cell_type": "code",
   "execution_count": null,
   "metadata": {},
   "outputs": [],
   "source": [
    "labels = []\r\n",
    "i = 0\r\n",
    "while i < len(ages):\r\n",
    "    label = []\r\n",
    "    label.append(ages[i])\r\n",
    "    label.append(genders[i])\r\n",
    "    labels.append(label)\r\n",
    "    i = i + 1"
   ]
  },
  {
   "cell_type": "markdown",
   "metadata": {},
   "source": [
    "## Creating another list of images from existing one\r\n",
    "### For better learning "
   ]
  },
  {
   "cell_type": "code",
   "execution_count": null,
   "metadata": {},
   "outputs": [],
   "source": [
    "images_f_2 = images_f/255"
   ]
  },
  {
   "cell_type": "code",
   "execution_count": null,
   "metadata": {},
   "outputs": [],
   "source": [
    "images_f_2.shape"
   ]
  },
  {
   "cell_type": "code",
   "execution_count": null,
   "metadata": {},
   "outputs": [],
   "source": [
    "labels_f = np.array(labels)"
   ]
  },
  {
   "cell_type": "markdown",
   "metadata": {},
   "source": [
    "## Splitting the dataset into train and test"
   ]
  },
  {
   "cell_type": "code",
   "execution_count": null,
   "metadata": {},
   "outputs": [],
   "source": [
    "from sklearn.model_selection import train_test_split"
   ]
  },
  {
   "cell_type": "code",
   "execution_count": null,
   "metadata": {},
   "outputs": [],
   "source": [
    "X_train, X_test, Y_train, Y_test = train_test_split(images_f_2, labels_f, test_size = 0.25)"
   ]
  },
  {
   "cell_type": "code",
   "execution_count": null,
   "metadata": {},
   "outputs": [],
   "source": [
    "Y_train[0:5]"
   ]
  },
  {
   "cell_type": "markdown",
   "metadata": {},
   "source": [
    "## Splitting the Y_test and Y_train again for easiness"
   ]
  },
  {
   "cell_type": "code",
   "execution_count": null,
   "metadata": {},
   "outputs": [],
   "source": [
    "Y_train_2 = [Y_train[:, 1], Y_train[:,0]]\r\n",
    "Y_test_2 = [Y_test[:, 1], Y_test[:, 0]]"
   ]
  },
  {
   "cell_type": "code",
   "execution_count": null,
   "metadata": {},
   "outputs": [],
   "source": [
    "Y_train_2[0][0:5]\r\n"
   ]
  },
  {
   "cell_type": "code",
   "execution_count": null,
   "metadata": {},
   "outputs": [],
   "source": [
    "Y_train_2[1][0:5]"
   ]
  },
  {
   "cell_type": "markdown",
   "metadata": {},
   "source": [
    "## Defining the Model"
   ]
  },
  {
   "cell_type": "code",
   "execution_count": null,
   "metadata": {},
   "outputs": [],
   "source": [
    "def Convolution(input_tensor, filters):\r\n",
    "    x = Conv2D(filters = filters, kernel_size = (3, 3), padding = \"same\", strides = (1,1), kernel_regularizer = l2(0.001))(input_tensor)\r\n",
    "    x = Dropout(0.1)(x)\r\n",
    "    x = Activation('relu')(x)\r\n",
    "    return x"
   ]
  },
  {
   "cell_type": "code",
   "execution_count": null,
   "metadata": {},
   "outputs": [],
   "source": [
    "def model(input_shape):\r\n",
    "    inputs = Input((input_shape))\r\n",
    "    conv_1 = Convolution(inputs, 32)\r\n",
    "    maxp_1 = MaxPooling2D(pool_size = (2,2))(conv_1)\r\n",
    "    conv_2 = Convolution(maxp_1, 64)\r\n",
    "    maxp_2 = MaxPooling2D(pool_size = (2, 2))(conv_2)\r\n",
    "    conv_3 = Convolution(maxp_2, 128)\r\n",
    "    maxp_3 = MaxPool2D(pool_size = (2,2))(conv_3)\r\n",
    "    conv_4 = Convolution(maxp_3, 256)\r\n",
    "    maxp_4 = MaxPooling2D(pool_size = (2, 2))(conv_4)\r\n",
    "    flatten = Flatten()(maxp_4)\r\n",
    "    dense_1 = Dense(64, activation = 'relu')(flatten)\r\n",
    "    dense_2 = Dense(64, activation = 'relu')(flatten)\r\n",
    "    drop_1 = Dropout(0.2)(dense_1)\r\n",
    "    drop_2 = Dropout(0.2)(dense_2)\r\n",
    "    output_1 = Dense(1, activation = 'sigmoid', name = 'sex_out')(drop_1)\r\n",
    "    output_2 = Dense(1, activation = 'relu', name = 'age_out', )(drop_2)\r\n",
    "    model = Model(inputs= [inputs], outputs = [output_1, output_2])\r\n",
    "    model.compile(loss = [\"binary_crossentropy\", \"mae\"], optimizer = \"Adam\", metrics = [\"accuracy\"])\r\n",
    "    return model"
   ]
  },
  {
   "cell_type": "code",
   "execution_count": null,
   "metadata": {},
   "outputs": [],
   "source": [
    "Model = model( ( 48, 48, 3 ))"
   ]
  },
  {
   "cell_type": "code",
   "execution_count": null,
   "metadata": {},
   "outputs": [],
   "source": [
    "Model.summary()"
   ]
  },
  {
   "cell_type": "code",
   "execution_count": null,
   "metadata": {},
   "outputs": [],
   "source": [
    "from tensorflow.keras.callbacks import ModelCheckpoint"
   ]
  },
  {
   "cell_type": "markdown",
   "metadata": {},
   "source": [
    "## Initializing the model"
   ]
  },
  {
   "cell_type": "code",
   "execution_count": null,
   "metadata": {},
   "outputs": [],
   "source": [
    "file_s = 'Age_Sex_Detection.h5'\r\n",
    "checkpoint = ModelCheckpoint(file_s, monitor = 'val_loss', verbose = 1, save_best_only=True, save_weights_only=False, mode = 'auto', save_freq='epoch')\r\n",
    "Early_stop = tf.keras.callbacks.EarlyStopping(patience= 75, monitor = 'val_loss', restore_best_weights='True')\r\n",
    "callback_list = [checkpoint, Early_stop]"
   ]
  },
  {
   "cell_type": "markdown",
   "metadata": {},
   "source": [
    "## Running the Model\r\n",
    "### This will take much time"
   ]
  },
  {
   "cell_type": "code",
   "execution_count": null,
   "metadata": {},
   "outputs": [],
   "source": [
    "History = Model.fit(X_train, Y_train_2, batch_size = 64, validation_data = (X_test, Y_test_2), epochs = 250, callbacks = callback_list)"
   ]
  },
  {
   "cell_type": "markdown",
   "metadata": {},
   "source": [
    "## Model Evaluation"
   ]
  },
  {
   "cell_type": "code",
   "execution_count": null,
   "metadata": {},
   "outputs": [],
   "source": [
    "Model.evaluate(X_test, Y_test_2)"
   ]
  },
  {
   "cell_type": "code",
   "execution_count": null,
   "metadata": {},
   "outputs": [],
   "source": [
    "pred = Model.predict(X_test)"
   ]
  },
  {
   "cell_type": "code",
   "execution_count": null,
   "metadata": {},
   "outputs": [],
   "source": [
    "pred[1]"
   ]
  },
  {
   "cell_type": "markdown",
   "metadata": {},
   "source": [
    "## Plotting Loss"
   ]
  },
  {
   "cell_type": "code",
   "execution_count": null,
   "metadata": {},
   "outputs": [],
   "source": [
    "plt.plot(History.history['loss'])\r\n",
    "plt.plot(History.history['val_loss'])\r\n",
    "plt.title('Model Loss')\r\n",
    "plt.xlabel = 'Epoch'\r\n",
    "plt.ylabel = 'Loss'\r\n",
    "plt.legend(['Train', 'Validation'], loc = 'upper left')\r\n",
    "plt.subplots_adjust(top = 1.0, bottom = 0.0, right = 0.95, left = 0, hspace = 0.25, wspace = 0.35)"
   ]
  },
  {
   "cell_type": "markdown",
   "metadata": {},
   "source": [
    "## Plotting Sex Accuracy"
   ]
  },
  {
   "cell_type": "code",
   "execution_count": null,
   "metadata": {},
   "outputs": [],
   "source": [
    "plt.plot(History.history['sex_out_accuracy'])\r\n",
    "plt.plot(History.history['val_sex_out_accuracy'])\r\n",
    "plt.title('Model Accuracy')\r\n",
    "plt.xlabel = ('Epoch')\r\n",
    "plt.ylabel = ('Accuracy')\r\n",
    "plt.legend(['Train', 'Validation'], loc = 'upper left')\r\n",
    "plt.subplots_adjust(top =1.0, bottom = 0.0, right = 0.95, left= 0, hspace=0.25, wspace=0.35)"
   ]
  },
  {
   "cell_type": "markdown",
   "metadata": {},
   "source": [
    "## Plotting Gender Accuracy"
   ]
  },
  {
   "cell_type": "code",
   "execution_count": null,
   "metadata": {},
   "outputs": [],
   "source": [
    "fig, ax = plt.subplots()\r\n",
    "ax.scatter(Y_test_2[1], pred[1])\r\n",
    "ax.plot([Y_test_2[1].min(), Y_test_2[1].max()], [Y_test_2[1].min(), Y_test_2[1].max()], 'k--', lw = 4)\r\n",
    "ax.set_xlabel('Actual Age')\r\n",
    "ax.set_ylabel('Predicted Age')\r\n",
    "plt.show()\r\n"
   ]
  },
  {
   "cell_type": "markdown",
   "metadata": {},
   "source": [
    "## Making report of model"
   ]
  },
  {
   "cell_type": "code",
   "execution_count": null,
   "metadata": {},
   "outputs": [],
   "source": [
    "i = 0\r\n",
    "Pred_l = []\r\n",
    "while( i < len(pred[0])):\r\n",
    "    Pred_l.append(int(np.round(pred[0][i])))\r\n",
    "    i = i+1\r\n",
    "    "
   ]
  },
  {
   "cell_type": "code",
   "execution_count": null,
   "metadata": {},
   "outputs": [],
   "source": [
    "from sklearn.metrics import confusion_matrix\r\n",
    "from sklearn.metrics import classification_report"
   ]
  },
  {
   "cell_type": "code",
   "execution_count": null,
   "metadata": {},
   "outputs": [],
   "source": [
    "report = classification_report(Y_test_2[0], Pred_l)"
   ]
  },
  {
   "cell_type": "code",
   "execution_count": null,
   "metadata": {},
   "outputs": [],
   "source": [
    "print(report)"
   ]
  },
  {
   "cell_type": "markdown",
   "metadata": {},
   "source": [
    "## Making Heatmap of the model(gender)"
   ]
  },
  {
   "cell_type": "code",
   "execution_count": null,
   "metadata": {},
   "outputs": [],
   "source": [
    "results = confusion_matrix(Y_test_2[0], Pred_l)"
   ]
  },
  {
   "cell_type": "code",
   "execution_count": null,
   "metadata": {},
   "outputs": [],
   "source": [
    "import seaborn as sns\r\n",
    "sns.heatmap(results, annot = True)"
   ]
  },
  {
   "cell_type": "markdown",
   "metadata": {},
   "source": [
    "## Testing the images ourselves"
   ]
  },
  {
   "cell_type": "code",
   "execution_count": null,
   "metadata": {},
   "outputs": [],
   "source": [
    "def test_image(ind, images_f, images_f_2, Model):\r\n",
    "    plt.imshow(images_f[ind])\r\n",
    "    image_test = images_f_2[ind]\r\n",
    "    pred_l = Model.predict(np.array([image_test]))\r\n",
    "    sex_f = ['Male', 'Female']\r\n",
    "    age = int(np.round(pred_l[1][0]))\r\n",
    "    sex = int(np.round(pred_l[0][0]))\r\n",
    "    print(\"Predicted age is \"+ str(age))\r\n",
    "    print(\"Predicted Sex is \"+ sex_f[sex])"
   ]
  },
  {
   "cell_type": "markdown",
   "metadata": {},
   "source": [
    "## Test 1"
   ]
  },
  {
   "cell_type": "code",
   "execution_count": null,
   "metadata": {},
   "outputs": [],
   "source": [
    "test_image(4, images_f, images_f_2, Model)"
   ]
  },
  {
   "cell_type": "markdown",
   "metadata": {},
   "source": [
    "## Test 2"
   ]
  },
  {
   "cell_type": "code",
   "execution_count": null,
   "metadata": {},
   "outputs": [],
   "source": [
    "test_image(23, images_f, images_f_2, Model)"
   ]
  },
  {
   "cell_type": "markdown",
   "metadata": {},
   "source": [
    "## Test 3"
   ]
  },
  {
   "cell_type": "code",
   "execution_count": null,
   "metadata": {},
   "outputs": [],
   "source": [
    "test_image(168, images_f, images_f_2, Model)"
   ]
  },
  {
   "cell_type": "markdown",
   "metadata": {},
   "source": [
    "## Test 4"
   ]
  },
  {
   "cell_type": "code",
   "execution_count": null,
   "metadata": {},
   "outputs": [],
   "source": [
    "test_image(888, images_f, images_f_2, Model)"
   ]
  },
  {
   "cell_type": "markdown",
   "metadata": {},
   "source": [
    "## Test 5"
   ]
  },
  {
   "cell_type": "code",
   "execution_count": null,
   "metadata": {},
   "outputs": [],
   "source": [
    "test_image(1288, images_f, images_f_2, Model)"
   ]
  },
  {
   "cell_type": "markdown",
   "metadata": {},
   "source": [
    "## Test 6"
   ]
  },
  {
   "cell_type": "code",
   "execution_count": null,
   "metadata": {},
   "outputs": [],
   "source": [
    "test_image(8239, images_f, images_f_2, Model)"
   ]
  }
 ],
 "metadata": {
  "kernelspec": {
   "display_name": "Python 3.7.8 64-bit",
   "name": "python378jvsc74a57bd057baa5815c940fdaff4d14510622de9616cae602444507ba5d0b6727c008cbd6"
  },
  "language_info": {
   "codemirror_mode": {
    "name": "ipython",
    "version": 3
   },
   "file_extension": ".py",
   "mimetype": "text/x-python",
   "name": "python",
   "nbconvert_exporter": "python",
   "pygments_lexer": "ipython3",
   "version": "3.7.8"
  },
  "metadata": {
   "interpreter": {
    "hash": "57baa5815c940fdaff4d14510622de9616cae602444507ba5d0b6727c008cbd6"
   }
  },
  "orig_nbformat": 2
 },
 "nbformat": 4,
 "nbformat_minor": 2
}